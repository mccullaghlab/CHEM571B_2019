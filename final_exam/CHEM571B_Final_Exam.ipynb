{
 "cells": [
  {
   "cell_type": "markdown",
   "metadata": {},
   "source": [
    "# CHEM 571B Fall 2019 Exam\n",
    "\n",
    "1. Demonstrate that for symmetric diatomic two-electron systems, such as the H$_{2}$ molecule, in a minimal basis (e.g. STO-3G) the optimal basis coefficient matrix in the Hartree-Fock procedure is given as\n",
    "$\\mathbf{C} = \\begin{bmatrix} (2(1+S_{12})^{-0.5} & (2(1-S_{12})^{-0.5} \\\\ (2(1+S_{12})^{-0.5} & -(2(1+S_{12})^{-0.5}\\end{bmatrix}$\n",
    "where $S_{12} = \\langle \\phi_1|\\phi_2 \\rangle$ and $\\phi_i$ is the $i$th atomic basis function.\n",
    "\n",
    "2. Show that the full CI Hamiltonian matrix for a H$_2$ system in a minimal basis is given as\n",
    "$\\mathbf{H_{CI}} = \\begin{bmatrix} 2h_{11} + J_{11} & K_{12} \\\\ K_{12} & 2h_{22} + J_{22}\\end{bmatrix}$, where $h_{11} = \\langle \\psi_1|h(1)|\\psi_1\\rangle$, $J_{ii} = \\langle \\psi_i\\psi_i|r_{12}^{-1}|\\psi_i\\psi_i \\rangle$, $K_{ij} = \\langle \\psi_i\\psi_i|r_{12}^{-1}|\\psi_j\\psi_j\\rangle$ and $\\psi_i$ is the $i$th molecular spacial orbital.\n",
    "\n",
    "3. Compute the dissocation curve for the Li$_{2}$ molecule in a minimal STO-3G (alpha and d values for the Li 1s and Li 2s given below) basis at the following levels of theory\n",
    "\n",
    "    a. rHF\n",
    "    \n",
    "    b. Configuration Interaction in which you only consider two determinants: the ground-state and the double excited state $\\sigma^2 \\rightarrow \\sigma^{*2}$.\n",
    "    \n",
    "    c. What is the minimum energy bond distance and dissociation energy in both rHF and CI?\n",
    "    \n",
    "    d. What is the physical nature of the bond? (i.e. is it a typical covalent bond?)\n",
    "    \n",
    "    e. Plot the electron density as a function of position along the bond vector. (only for rHF)"
   ]
  },
  {
   "cell_type": "code",
   "execution_count": 1,
   "metadata": {},
   "outputs": [],
   "source": [
    "# The following pieces of code may be useful for problem 3\n",
    "\n",
    "# set STO-3G basis \n",
    "alpha1s = [0.15432897,0.53532814,0.44463454]\n",
    "alpha2s = [-0.09996723,0.39951283,0.70011547]\n",
    "d1s = [16.1195750,2.9362007,0.7946505]\n",
    "d2s = [0.6362897,0.1478601,0.0480887]\n",
    "\n",
    "\n",
    "# orthogonalize basis for arbitrary number of basis functions\n",
    "def orthogonalize_basis(S):\n",
    "    M = S.shape[1]\n",
    "    e, v = np.linalg.eig(S)\n",
    "    s = np.diag(e**-0.5)\n",
    "    X = np.dot(v,s)\n",
    "    return X\n",
    "\n",
    "# create and populate density matrix given C and N (number of electrons)\n",
    "def constructDensityMat(C,N):\n",
    "    M = C.shape[0]\n",
    "    P = np.zeros((M,M),dtype=float)\n",
    "    for i in range(M):\n",
    "        for j in range(i,M):\n",
    "            for a in range(N//2):\n",
    "                P[i,j] += C[i,a]*C[j,a]\n",
    "            P[i,j] *= 2.0\n",
    "            P[j,i] = P[i,j]\n",
    "    return P\n",
    "\n",
    "# compute one electron potential energy integral for gaussian basis function\n",
    "def gaussian_potential(alpha, RA, beta, RB, RC):\n",
    "    AplusB = alpha + beta\n",
    "    RAminusRB = RA - RB\n",
    "    RARB2 = np.dot(RAminusRB,RAminusRB)\n",
    "    RP = (alpha*RA+beta*RB)/AplusB\n",
    "    RPminusRC = RP - RC\n",
    "    RPRC2 = np.dot(RPminusRC,RPminusRC)\n",
    "    if (RPRC2 == 0.0):\n",
    "        return 2.0*np.pi/AplusB\n",
    "    else:\n",
    "        t = np.sqrt(AplusB*RPRC2)\n",
    "        prefactor = 2.0*np.pi*0.5/AplusB*np.sqrt(np.pi)/t*erf(t)\n",
    "        return prefactor*np.exp(-alpha*beta/AplusB*RARB2)"
   ]
  },
  {
   "cell_type": "code",
   "execution_count": null,
   "metadata": {},
   "outputs": [],
   "source": []
  }
 ],
 "metadata": {
  "kernelspec": {
   "display_name": "Python 3",
   "language": "python",
   "name": "python3"
  },
  "language_info": {
   "codemirror_mode": {
    "name": "ipython",
    "version": 3
   },
   "file_extension": ".py",
   "mimetype": "text/x-python",
   "name": "python",
   "nbconvert_exporter": "python",
   "pygments_lexer": "ipython3",
   "version": "3.6.5"
  }
 },
 "nbformat": 4,
 "nbformat_minor": 2
}
