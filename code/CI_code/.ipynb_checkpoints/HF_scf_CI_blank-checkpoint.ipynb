{
 "cells": [
  {
   "cell_type": "code",
   "execution_count": null,
   "metadata": {},
   "outputs": [],
   "source": [
    "# load some libraries\n",
    "import numpy as np\n",
    "import matplotlib.pyplot as plt\n",
    "%matplotlib inline\n",
    "from scipy import integrate\n",
    "from scipy.special import sph_harm\n",
    "from scipy.special import erf\n",
    "# import library for hf routines\n",
    "import hf_routines as hf\n",
    "# import library for setting up plots\n",
    "import plotting as myplt"
   ]
  },
  {
   "cell_type": "code",
   "execution_count": null,
   "metadata": {},
   "outputs": [],
   "source": [
    "# set STO-3G basis and atoms\n",
    "zeta = [1.24,1.24]\n",
    "R = np.empty((2,3),dtype=float)\n",
    "R[0,0] = R[0,1] = R[0,2] = 0.0\n",
    "R[1,0] = 1.4\n",
    "R[1,1] = R[1,2] = 0.0\n",
    "Z = [1.0,1.0]\n",
    "basis_set = [hf.sto(3,zeta[i],R[i,:]) for i in range(2)]\n",
    "atoms = [hf.atom(R[i,:],Z[i]) for i in range(2)]"
   ]
  },
  {
   "cell_type": "code",
   "execution_count": null,
   "metadata": {},
   "outputs": [],
   "source": [
    "# compute matrices and twoE that are not dependent on coefficients\n",
    "S, Sinv = hf.overlap(basis_set)\n",
    "T = hf.kinetic(basis_set)\n",
    "V = hf.core_potential(basis_set,atoms)\n",
    "Hcore = V + T\n",
    "twoE = hf.compute_twoE(basis_set)\n",
    "# compute basis set orthogonalization transformation matrix\n",
    "X = hf.orthogonalize_basis(S)"
   ]
  },
  {
   "cell_type": "code",
   "execution_count": null,
   "metadata": {},
   "outputs": [],
   "source": [
    "# use Hcore as the guess for the Fock matrix\n",
    "HcoreX = np.dot(np.dot(X.T,Hcore),X)\n",
    "e, C = np.linalg.eig(HcoreX)\n",
    "# project C back into original basis\n",
    "C = np.dot(X,C)"
   ]
  },
  {
   "cell_type": "code",
   "execution_count": null,
   "metadata": {},
   "outputs": [],
   "source": [
    "# setup some SCF routines\n",
    "previousE = 0.0\n",
    "deltaE = 1.0\n",
    "thresh = 0.0001\n",
    "iteration = 0 \n",
    "while deltaE > thresh and iteration < 20:\n",
    "    P = hf.constructDensityMat(C)\n",
    "    G = hf.compute_G(P,twoE)\n",
    "    F = Hcore + G\n",
    "    energy, C, orbitalEnergies = hf.total_energy(F,X,Hcore,P,atoms)\n",
    "    deltaE = abs(energy-previousE)\n",
    "    previousE = energy\n",
    "    iteration += 1\n",
    "    print iteration, energy, deltaE"
   ]
  },
  {
   "cell_type": "code",
   "execution_count": null,
   "metadata": {},
   "outputs": [],
   "source": [
    "print(C)"
   ]
  },
  {
   "cell_type": "markdown",
   "metadata": {},
   "source": [
    "## Configuration Interaction\n",
    "We have now performed the HF routine for H$_2$ in a minimal basis.  This gives us a ground state energy in the single determinant picture and two HF orbitals (occupied and unoccupied).  The configuration interaction (CI) approach defines a multideterminant wavefunction in terms of these HF orbitals.  The CI wavefunction can be defined as\n",
    "\n",
    "$\\Phi_{CI} = c_0 \\psi_0 + c_1 \\psi_1 + c_2 \\psi_2 ...$\n",
    "\n",
    "where $c_i$ are linear variational coefficients of the $\\psi_i$ determinant.  These determinants can be thought of as different electronic populations of the HF orbitals.  In order for this summation to be valid, all $\\psi_i$s must have the same electronic spin and overall symmetry.  It turns out that this restriction leads to only two possible determinants: the HF ground state and the doubly excited state:\n",
    "\n",
    "$\\Phi_{CI}^{H_2-min basis} = c_0 \\psi_0 + c_1 \\psi_D $.\n",
    "\n",
    "We can solve for the energies and linear coefficients using the variational approach.  Since $\\psi_i$s are HF orbitals, they are orthonormal implying that the overlap matrix $\\mathbf{S}$ is simply the identity matrix.  Thus we need only diagonalize the $2\\times2$ Hamiltonian matrix\n",
    "\n",
    "$\\mathbf{H} = \\begin{bmatrix} \\langle\\psi_0|H|\\psi_0\\rangle & \\langle\\psi_0|H|\\psi_D\\rangle \\\\ \\langle\\psi_D|H|\\psi_0\\rangle & \\langle\\psi_D|H|\\psi_D\\rangle \\end{bmatrix}$\n",
    "\n",
    "where $\\langle\\psi_0|H|\\psi_0\\rangle = E_0$ is simply the HF ground-state energy, $\\langle\\psi_0|H|\\psi_D\\rangle = K_{12}$ is the exchange energy between the two HF orbitals, and $\\langle\\psi_D|H|\\psi_D\\rangle = 2h_{22} +J_{22}$ is the energy of the doubly occupied $\\sigma^*$ orbital of the HF solution in the minimal basis.\n",
    "\n",
    "For coding purposes it will be useful to define the ground-state and doubly excited state energies in terms of orbital energies and two-electron integrals:\n",
    "\n",
    "$ E_0 = 2h_{11} + J_{11} = 2\\epsilon_1 - J_{11}$\n",
    "\n",
    "where $\\epsilon_1 = h_{11} + J_{11}$ is the energy of the first orbital (lowest eigenvalue of the Fock matrix) and \n",
    "\n",
    "$\\langle\\psi_D|H|\\psi_D\\rangle = 2h_{22} +J_{22} = 2\\epsilon_2-4J_{12}+J_{22} + 2K_{12}$\n",
    "\n",
    "where $\\epsilon_2 = h_{22} + 2J_{12}-K_{12}$ is the energy of the second orbital"
   ]
  },
  {
   "cell_type": "code",
   "execution_count": null,
   "metadata": {},
   "outputs": [],
   "source": [
    "hf_twoE = hf.update_twoE(C,twoE)\n",
    "print \"J11=\", hf_twoE[0,0,0,0]\n",
    "print \"J12=\", hf_twoE[0,0,1,1]\n",
    "print \"K12=\", hf_twoE[0,1,1,0]"
   ]
  },
  {
   "cell_type": "code",
   "execution_count": null,
   "metadata": {},
   "outputs": [],
   "source": []
  },
  {
   "cell_type": "code",
   "execution_count": null,
   "metadata": {},
   "outputs": [],
   "source": []
  },
  {
   "cell_type": "code",
   "execution_count": null,
   "metadata": {},
   "outputs": [],
   "source": [
    "# plot results\n",
    "ax = myplt.define_figure(xlabel=\"$r$ (Bohr)\",ylabel=\"Energy (Hartree)\")\n",
    "ax.plot(r,hf_energy,lw=2,label='rHF')\n",
    "ax.plot(r,ci_energy,lw=2,label='CI')\n",
    "ax.legend(fontsize=20)"
   ]
  },
  {
   "cell_type": "code",
   "execution_count": null,
   "metadata": {},
   "outputs": [],
   "source": [
    "# plot results with other methods\n",
    "# load data for other methods from files \n",
    "uhf = np.loadtxt(\"uhf_energy_scan.txt\")\n",
    "others = np.loadtxt(\"h2_various_methods.txt\",skiprows=1)  # has a header line\n",
    "exact = np.loadtxt(\"h2_kolos_wolniewicz.txt\",skiprows=1)  # has a header line\n",
    "# initialize figure using my plotting routine \n",
    "ax = myplt.define_figure(xlabel=\"$r$ (Bohr)\",ylabel=\"Energy (Hartree)\")\n",
    "# minimal basis results\n",
    "ax.plot(r,hf_energy-uhf[-1,1]-1,lw=2,label='rHF/STO-3G')\n",
    "ax.plot(r,ci_energy-uhf[-1,1]-1,lw=2,label='CI/STO-3G')\n",
    "ax.plot(uhf[:,0],uhf[:,1]-uhf[-1,1]-1,lw=2,label='uHF/STO-3G')\n",
    "# plot various other results\n",
    "ax.plot(others[:,0]*1.88973,others[:,1],lw=2,label='rHF - bigger basis')  # r is in units of Angstroms\n",
    "ax.plot(others[:,0]*1.88973,others[:,2],lw=2,label='uHF - bigger basis')  # r is in units of Angstroms\n",
    "ax.plot(others[:,0]*1.88973,others[:,6],lw=2,label='MRCI')                # r is in units of Angstroms\n",
    "ax.plot(others[:,0]*1.88973,others[:,7],lw=2,label='B3LYP')               # r is in units of Angstroms\n",
    "ax.plot(exact[:,0],exact[:,1],lw=3,c='k',label='Exact')                   # The Kolos Wolniewicz \"exact\" results\n",
    "# change x and y dimensions of plot to focus more on well\n",
    "ax.set_ylim([-1.22,-0.6])\n",
    "ax.set_xlim([0,8])\n",
    "# make a legend\n",
    "ax.legend(fontsize=15)"
   ]
  },
  {
   "cell_type": "code",
   "execution_count": null,
   "metadata": {},
   "outputs": [],
   "source": []
  }
 ],
 "metadata": {
  "kernelspec": {
   "display_name": "Python 2",
   "language": "python",
   "name": "python2"
  },
  "language_info": {
   "codemirror_mode": {
    "name": "ipython",
    "version": 2
   },
   "file_extension": ".py",
   "mimetype": "text/x-python",
   "name": "python",
   "nbconvert_exporter": "python",
   "pygments_lexer": "ipython2",
   "version": "2.7.14"
  }
 },
 "nbformat": 4,
 "nbformat_minor": 2
}
