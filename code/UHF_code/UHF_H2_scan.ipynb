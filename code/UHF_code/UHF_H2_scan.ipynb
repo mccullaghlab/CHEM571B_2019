{
 "cells": [
  {
   "cell_type": "code",
   "execution_count": 1,
   "metadata": {},
   "outputs": [],
   "source": [
    "# load some libraries\n",
    "import numpy as np\n",
    "import matplotlib.pyplot as plt\n",
    "%matplotlib inline\n",
    "from scipy import integrate\n",
    "from scipy.special import sph_harm\n",
    "from scipy.special import erf\n",
    "import uhf_routines as uhf"
   ]
  },
  {
   "cell_type": "code",
   "execution_count": 2,
   "metadata": {},
   "outputs": [],
   "source": [
    "# set STO-3G basis for zeta = 1.24\n",
    "alpha = np.array([0.168856,0.623913,3.42525])\n",
    "d = np.array([0.444635,0.535328,0.154329])\n",
    "R = np.empty((2,3),dtype=float)\n",
    "R[0,0] = R[0,1] = R[0,2] = 0.0\n",
    "R[1,0] = 1.4\n",
    "R[1,1] = R[1,2] = 0.0\n",
    "basis_set = [uhf.sto(3,alpha,d,R[i,:]) for i in range(2)]\n",
    "atoms = [uhf.atom(R[i,:],1.0) for i in range(2)]"
   ]
  },
  {
   "cell_type": "code",
   "execution_count": 3,
   "metadata": {},
   "outputs": [
    {
     "name": "stdout",
     "output_type": "stream",
     "text": [
      "145\n"
     ]
    }
   ],
   "source": [
    "# setup scan\n",
    "r = np.arange(0.5,15,0.1)\n",
    "n = len(r)\n",
    "energy = np.empty(n)\n",
    "print n"
   ]
  },
  {
   "cell_type": "code",
   "execution_count": 7,
   "metadata": {},
   "outputs": [],
   "source": [
    "for i in range(n):\n",
    "    basis_set[1].R[0] = r[i]\n",
    "    atoms[1].pos[0] = r[i]\n",
    "    S, Sinv = uhf.overlap(basis_set)\n",
    "    T = uhf.kinetic(basis_set)\n",
    "    V = uhf.core_potential(basis_set,atoms)\n",
    "    Hcore = V + T\n",
    "    twoE = uhf.compute_twoE(basis_set)\n",
    "    Ca,Cb, eta = uhf.C_u(S,Hcore,twoE)\n",
    "    Pa = uhf.constructDensityMat(Ca)\n",
    "    Pb = uhf.constructDensityMat(Cb)\n",
    "    PT = Pa+Pb\n",
    "    Ga = uhf.compute_G(PT,Pa,twoE)\n",
    "    Gb = uhf.compute_G(PT,Pb,twoE)\n",
    "    Fa = Hcore + Ga\n",
    "    Fb = Hcore + Gb\n",
    "    energy[i] = uhf.total_energy(Fa,Fb,Hcore,PT,Pa,Pb,atoms)"
   ]
  },
  {
   "cell_type": "code",
   "execution_count": 8,
   "metadata": {},
   "outputs": [
    {
     "data": {
      "text/plain": [
       "[<matplotlib.lines.Line2D at 0x107525690>]"
      ]
     },
     "execution_count": 8,
     "metadata": {},
     "output_type": "execute_result"
    },
    {
     "data": {
      "image/png": "[encoded data removed]",
      "text/plain": [
       "<matplotlib.figure.Figure at 0x1073b7190>"
      ]
     },
     "metadata": {},
     "output_type": "display_data"
    }
   ],
   "source": [
    "plt.plot(r,energy,lw=2)"
   ]
  },
  {
   "cell_type": "code",
   "execution_count": 13,
   "metadata": {},
   "outputs": [],
   "source": [
    "np.savetxt(\"uhf_energy_scan.txt\",np.column_stack((r,energy)))"
   ]
  },
  {
   "cell_type": "code",
   "execution_count": null,
   "metadata": {},
   "outputs": [],
   "source": []
  }
 ],
 "metadata": {
  "kernelspec": {
   "display_name": "Python 3",
   "language": "python",
   "name": "python3"
  },
  "language_info": {
   "codemirror_mode": {
    "name": "ipython",
    "version": 2
   },
   "file_extension": ".py",
   "mimetype": "text/x-python",
   "name": "python",
   "nbconvert_exporter": "python",
   "pygments_lexer": "ipython2",
   "version": "2.7.14"
  }
 },
 "nbformat": 4,
 "nbformat_minor": 2
}
