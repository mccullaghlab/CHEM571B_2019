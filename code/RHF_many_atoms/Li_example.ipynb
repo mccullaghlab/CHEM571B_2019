{
 "cells": [
  {
   "cell_type": "code",
   "execution_count": 2,
   "metadata": {},
   "outputs": [],
   "source": [
    "# load some libraries\n",
    "import numpy as np\n",
    "import hf_routines as hf"
   ]
  },
  {
   "cell_type": "code",
   "execution_count": 3,
   "metadata": {},
   "outputs": [],
   "source": [
    "# define atom and sto classes\n",
    "class sto:\n",
    "    def __init__(self,N,alpha,d,R):\n",
    "        self.N = N\n",
    "        self.R = R\n",
    "        self.alpha = alpha\n",
    "        self.d = d\n",
    "class atom:\n",
    "    def __init__(self,pos,charge):\n",
    "        self.pos = pos\n",
    "        self.charge = charge"
   ]
  },
  {
   "cell_type": "code",
   "execution_count": 2,
   "metadata": {},
   "outputs": [],
   "source": [
    "# setup the system\n",
    "N = 6        # number of electrons\n",
    "nAtoms = 2   # number of atoms\n",
    "M = 4        # number of basis functions"
   ]
  },
  {
   "cell_type": "code",
   "execution_count": 9,
   "metadata": {},
   "outputs": [],
   "source": [
    "# Define atomic positions and charges\n",
    "R = np.empty((nAtoms,3),dtype=float)\n",
    "R[0,0] = R[0,1] = R[0,2] = 0.0\n",
    "R[1,0] = 1.5\n",
    "R[1,1] = R[1,2] = 0.0\n",
    "Z = [3.0,3.0]\n",
    "atoms = [atom(R[i,:],Z[i]) for i in range(nAtoms)]"
   ]
  },
  {
   "cell_type": "code",
   "execution_count": 1,
   "metadata": {},
   "outputs": [
    {
     "ename": "NameError",
     "evalue": "name 'np' is not defined",
     "output_type": "error",
     "traceback": [
      "\u001b[0;31m---------------------------------------------------------------------------\u001b[0m",
      "\u001b[0;31mNameError\u001b[0m                                 Traceback (most recent call last)",
      "\u001b[0;32m<ipython-input-1-fc3210f86574>\u001b[0m in \u001b[0;36m<module>\u001b[0;34m()\u001b[0m\n\u001b[1;32m      4\u001b[0m \u001b[0md1s\u001b[0m \u001b[0;34m=\u001b[0m \u001b[0;34m[\u001b[0m\u001b[0;36m16.1195750\u001b[0m\u001b[0;34m,\u001b[0m\u001b[0;36m2.9362007\u001b[0m\u001b[0;34m,\u001b[0m\u001b[0;36m0.7946505\u001b[0m\u001b[0;34m]\u001b[0m\u001b[0;34m\u001b[0m\u001b[0m\n\u001b[1;32m      5\u001b[0m \u001b[0md2s\u001b[0m \u001b[0;34m=\u001b[0m \u001b[0;34m[\u001b[0m\u001b[0;36m0.6362897\u001b[0m\u001b[0;34m,\u001b[0m\u001b[0;36m0.1478601\u001b[0m\u001b[0;34m,\u001b[0m\u001b[0;36m0.0480887\u001b[0m\u001b[0;34m]\u001b[0m\u001b[0;34m\u001b[0m\u001b[0m\n\u001b[0;32m----> 6\u001b[0;31m \u001b[0mR_basis\u001b[0m \u001b[0;34m=\u001b[0m \u001b[0mnp\u001b[0m\u001b[0;34m.\u001b[0m\u001b[0mstack\u001b[0m\u001b[0;34m(\u001b[0m\u001b[0;34m(\u001b[0m\u001b[0mR\u001b[0m\u001b[0;34m[\u001b[0m\u001b[0;36m0\u001b[0m\u001b[0;34m,\u001b[0m\u001b[0;34m:\u001b[0m\u001b[0;34m]\u001b[0m\u001b[0;34m,\u001b[0m\u001b[0mR\u001b[0m\u001b[0;34m[\u001b[0m\u001b[0;36m0\u001b[0m\u001b[0;34m,\u001b[0m\u001b[0;34m:\u001b[0m\u001b[0;34m]\u001b[0m\u001b[0;34m,\u001b[0m\u001b[0mR\u001b[0m\u001b[0;34m[\u001b[0m\u001b[0;36m1\u001b[0m\u001b[0;34m,\u001b[0m\u001b[0;34m:\u001b[0m\u001b[0;34m]\u001b[0m\u001b[0;34m,\u001b[0m\u001b[0mR\u001b[0m\u001b[0;34m[\u001b[0m\u001b[0;36m1\u001b[0m\u001b[0;34m,\u001b[0m\u001b[0;34m:\u001b[0m\u001b[0;34m]\u001b[0m\u001b[0;34m)\u001b[0m\u001b[0;34m)\u001b[0m\u001b[0;34m\u001b[0m\u001b[0m\n\u001b[0m\u001b[1;32m      7\u001b[0m \u001b[0malpha_basis\u001b[0m \u001b[0;34m=\u001b[0m \u001b[0mnp\u001b[0m\u001b[0;34m.\u001b[0m\u001b[0mstack\u001b[0m\u001b[0;34m(\u001b[0m\u001b[0;34m(\u001b[0m\u001b[0malpha1s\u001b[0m\u001b[0;34m,\u001b[0m\u001b[0malpha2s\u001b[0m\u001b[0;34m,\u001b[0m\u001b[0malpha1s\u001b[0m\u001b[0;34m,\u001b[0m\u001b[0malpha2s\u001b[0m\u001b[0;34m)\u001b[0m\u001b[0;34m)\u001b[0m\u001b[0;34m\u001b[0m\u001b[0m\n\u001b[1;32m      8\u001b[0m \u001b[0md_basis\u001b[0m \u001b[0;34m=\u001b[0m \u001b[0mnp\u001b[0m\u001b[0;34m.\u001b[0m\u001b[0mstack\u001b[0m\u001b[0;34m(\u001b[0m\u001b[0;34m(\u001b[0m\u001b[0md1s\u001b[0m\u001b[0;34m,\u001b[0m\u001b[0md2s\u001b[0m\u001b[0;34m,\u001b[0m\u001b[0md1s\u001b[0m\u001b[0;34m,\u001b[0m\u001b[0md2s\u001b[0m\u001b[0;34m)\u001b[0m\u001b[0;34m)\u001b[0m\u001b[0;34m\u001b[0m\u001b[0m\n",
      "\u001b[0;31mNameError\u001b[0m: name 'np' is not defined"
     ]
    }
   ],
   "source": [
    "# Define STO-3G basis \n",
    "alpha1s = [0.15432897,0.53532814,0.44463454]\n",
    "alpha2s = [-0.09996723,0.39951283,0.70011547]\n",
    "d1s = [16.1195750,2.9362007,0.7946505]\n",
    "d2s = [0.6362897,0.1478601,0.0480887]\n",
    "R_basis = np.stack((R[0,:],R[0,:],R[1,:],R[1,:]))\n",
    "alpha_basis = np.stack((alpha1s,alpha2s,alpha1s,alpha2s))\n",
    "d_basis = np.stack((d1s,d2s,d1s,d2s))\n",
    "basis_set = [sto(3,alpha_basis[i],d_basis[i],R_basis[i,:]) for i in range(M)]"
   ]
  },
  {
   "cell_type": "code",
   "execution_count": 12,
   "metadata": {},
   "outputs": [
    {
     "name": "stdout",
     "output_type": "stream",
     "text": [
      "[[ 1.          0.24113665  0.18502059  0.2334712 ]\n",
      " [ 0.24113665  1.          0.2334712   0.92757185]\n",
      " [ 0.18502059  0.2334712   1.          0.24113665]\n",
      " [ 0.2334712   0.92757185  0.24113665  1.        ]]\n"
     ]
    }
   ],
   "source": [
    "S, Sinv = hf.overlap(basis_set)\n",
    "print(S)"
   ]
  },
  {
   "cell_type": "code",
   "execution_count": null,
   "metadata": {},
   "outputs": [],
   "source": []
  }
 ],
 "metadata": {
  "kernelspec": {
   "display_name": "Python 2",
   "language": "python",
   "name": "python2"
  },
  "language_info": {
   "codemirror_mode": {
    "name": "ipython",
    "version": 2
   },
   "file_extension": ".py",
   "mimetype": "text/x-python",
   "name": "python",
   "nbconvert_exporter": "python",
   "pygments_lexer": "ipython2",
   "version": "2.7.14"
  }
 },
 "nbformat": 4,
 "nbformat_minor": 2
}
